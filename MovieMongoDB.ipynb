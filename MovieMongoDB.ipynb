{
 "cells": [
  {
   "cell_type": "code",
   "execution_count": 3,
   "metadata": {},
   "outputs": [],
   "source": [
    "from pymongo import MongoClient\n",
    "import json\n",
    "\n",
    "with open('data/credentials_mongodb.json') as f:\n",
    "    login = json.load(f)\n",
    "\n",
    "client = MongoClient(**login)"
   ]
  },
  {
   "cell_type": "code",
   "execution_count": 4,
   "metadata": {},
   "outputs": [
    {
     "data": {
      "text/plain": [
       "Database(MongoClient(host=['ac-tiwkcrk-shard-00-01.ioin6ns.mongodb.net:27017', 'ac-tiwkcrk-shard-00-00.ioin6ns.mongodb.net:27017', 'ac-tiwkcrk-shard-00-02.ioin6ns.mongodb.net:27017'], document_class=dict, tz_aware=False, connect=True, authsource='admin', replicaset='atlas-12y3av-shard-0', tls=True), 'my_db')"
      ]
     },
     "execution_count": 4,
     "metadata": {},
     "output_type": "execute_result"
    }
   ],
   "source": [
    "my_db = client['my_db']\n",
    "my_db"
   ]
  },
  {
   "cell_type": "code",
   "execution_count": 5,
   "metadata": {
    "tags": []
   },
   "outputs": [
    {
     "data": {
      "text/plain": [
       "['sample_airbnb',\n",
       " 'sample_analytics',\n",
       " 'sample_geospatial',\n",
       " 'sample_guides',\n",
       " 'sample_mflix',\n",
       " 'sample_restaurants',\n",
       " 'sample_supplies',\n",
       " 'sample_training',\n",
       " 'sample_weatherdata',\n",
       " 'admin',\n",
       " 'local']"
      ]
     },
     "execution_count": 5,
     "metadata": {},
     "output_type": "execute_result"
    }
   ],
   "source": [
    "client.list_database_names()"
   ]
  },
  {
   "cell_type": "code",
   "execution_count": 6,
   "metadata": {
    "tags": []
   },
   "outputs": [
    {
     "data": {
      "text/plain": [
       "['theaters', 'sessions', 'comments', 'movies', 'users']"
      ]
     },
     "execution_count": 6,
     "metadata": {},
     "output_type": "execute_result"
    }
   ],
   "source": [
    "client['sample_mflix'].list_collection_names()"
   ]
  },
  {
   "cell_type": "markdown",
   "metadata": {},
   "source": [
    "### Retrieve a random document associated with some movie/TV series produced in 2000."
   ]
  },
  {
   "cell_type": "code",
   "execution_count": 27,
   "metadata": {},
   "outputs": [
    {
     "data": {
      "text/plain": [
       "[{'_id': ObjectId('573a139af29313caabcf0782'),\n",
       "  'fullplot': 'Set in Hong Kong, 1962, Chow Mo-Wan is a newspaper editor who moves into a new building with his wife. At the same time, Su Li-zhen, a beautiful secretary and her executive husband also move in to the crowded building. With their spouses often away, Chow and Li-zhen spend most of their time together as friends. They have everything in common from noodle shops to martial arts. Soon, they are shocked to discover that their spouses are having an affair. Hurt and angry, they find comfort in their growing friendship even as they resolve not to be like their unfaithful mates.',\n",
       "  'imdb': {'rating': 8.1, 'votes': 67663, 'id': 118694},\n",
       "  'year': 2000,\n",
       "  'plot': 'Two neighbors, a woman and a man, form a strong bond after both suspect extramarital activities of their spouses. However, they agree to keep their bond platonic so as not to commit similar wrongs.',\n",
       "  'genres': ['Drama', 'Romance'],\n",
       "  'rated': 'PG',\n",
       "  'metacritic': 85,\n",
       "  'title': 'In the Mood for Love',\n",
       "  'lastupdated': '2015-09-15 05:14:09.273000000',\n",
       "  'languages': ['Cantonese', 'Shanghainese', 'French'],\n",
       "  'writers': ['Kar Wai Wong'],\n",
       "  'type': 'movie',\n",
       "  'tomatoes': {'website': 'http://www.wkw-inthemoodforlove.com',\n",
       "   'viewer': {'rating': 4.3, 'numReviews': 51804, 'meter': 94},\n",
       "   'dvd': datetime.datetime(2002, 3, 5, 0, 0),\n",
       "   'critic': {'rating': 7.8, 'numReviews': 119, 'meter': 90},\n",
       "   'lastUpdated': datetime.datetime(2015, 9, 15, 17, 8, 11),\n",
       "   'consensus': 'This understated romance, featuring good performances by its leads, is both visually beautiful and emotionally moving.',\n",
       "   'rotten': 12,\n",
       "   'production': 'USA Films',\n",
       "   'fresh': 107},\n",
       "  'poster': 'https://m.media-amazon.com/images/M/MV5BYjZjODRlMjQtMjJlYy00ZDBjLTkyYTQtZGQxZTk5NzJhYmNmXkEyXkFqcGdeQXVyMTQxNzMzNDI@._V1_SY1000_SX677_AL_.jpg',\n",
       "  'num_mflix_comments': 0,\n",
       "  'released': datetime.datetime(2001, 3, 9, 0, 0),\n",
       "  'awards': {'wins': 49,\n",
       "   'nominations': 33,\n",
       "   'text': 'Nominated for 1 BAFTA Film Award. Another 48 wins & 33 nominations.'},\n",
       "  'countries': ['Hong Kong', 'China'],\n",
       "  'cast': ['Maggie Cheung',\n",
       "   'Tony Chiu Wai Leung',\n",
       "   'Ping Lam Siu',\n",
       "   \"Tung Cho 'Joe' Cheung\"],\n",
       "  'directors': ['Kar Wai Wong'],\n",
       "  'runtime': 98}]"
      ]
     },
     "execution_count": 27,
     "metadata": {},
     "output_type": "execute_result"
    }
   ],
   "source": [
    "list(\n",
    "    client['sample_mflix']['movies'].find( {'year': 2000} , limit=1)\n",
    ")"
   ]
  },
  {
   "cell_type": "markdown",
   "metadata": {},
   "source": [
    "### Retrieve only the title and cast of movies produced in 2005, limit results to 3 documents.\n"
   ]
  },
  {
   "cell_type": "code",
   "execution_count": 28,
   "metadata": {},
   "outputs": [
    {
     "data": {
      "text/plain": [
       "[{'cast': ['èva Gèbor', 'Istvèn Znamenèk', 'èkos Horvèth', 'Lia Pokorny'],\n",
       "  'title': 'Pèl Adrienn'},\n",
       " {'title': 'In My Sleep',\n",
       "  'cast': ['Philip Winchester',\n",
       "   'Tim Draxl',\n",
       "   'Lacey Chabert',\n",
       "   'Abigail Spencer']},\n",
       " {'cast': ['James Badge Dale',\n",
       "   'Joseph Mazzello',\n",
       "   'Jon Seda',\n",
       "   'Sebastian Bertoli'],\n",
       "  'title': 'The Pacific'}]"
      ]
     },
     "execution_count": 28,
     "metadata": {},
     "output_type": "execute_result"
    }
   ],
   "source": [
    "list(\n",
    "    client['sample_mflix']['movies'].find( {'year': 2010} ,  projection = {'_id':0, 'title':1, 'cast':1}, limit=3) \n",
    ")"
   ]
  },
  {
   "cell_type": "markdown",
   "metadata": {},
   "source": [
    "### Retrieve the number of movies and TV series with a Metacritic rating of exactly 90 for each year from 2000 to 2005 (inclusive)."
   ]
  },
  {
   "cell_type": "code",
   "execution_count": 29,
   "metadata": {},
   "outputs": [
    {
     "name": "stdout",
     "output_type": "stream",
     "text": [
      "2000: 2\n",
      "2001: 3\n",
      "2002: 2\n",
      "2003: 3\n",
      "2004: 2\n",
      "2005: 0\n"
     ]
    }
   ],
   "source": [
    "for i in range(2000,2006):\n",
    "    print(f\"{i}: {client['sample_mflix']['movies'].count_documents(filter={'metacritic': 90,   'year' : i })}\")"
   ]
  },
  {
   "cell_type": "markdown",
   "metadata": {},
   "source": [
    "### Retrieve the title and runtime of the 10 shortest movies in the movies collection.\n",
    "\n"
   ]
  },
  {
   "cell_type": "code",
   "execution_count": 32,
   "metadata": {},
   "outputs": [
    {
     "data": {
      "text/plain": [
       "[{'runtime': 1, 'title': 'Neko no shukai'},\n",
       " {'runtime': 1, 'title': 'The Kiss'},\n",
       " {'runtime': 1, 'title': 'Newark Athlete'},\n",
       " {'runtime': 1, 'title': 'Dickson Experimental Sound Film'},\n",
       " {'runtime': 1, 'title': 'Blacksmith Scene'},\n",
       " {'runtime': 1, 'title': 'The Kiss'},\n",
       " {'runtime': 2, 'title': 'Luxo Jr.'},\n",
       " {'runtime': 2, 'title': 'Andrè and Wally B.'},\n",
       " {'runtime': 2, 'title': 'Game Over'},\n",
       " {'runtime': 2, 'title': 'Fresh Guacamole'}]"
      ]
     },
     "execution_count": 32,
     "metadata": {},
     "output_type": "execute_result"
    }
   ],
   "source": [
    "list(\n",
    "    client[\"sample_mflix\"][\"movies\"].find(\n",
    "        filter={\n",
    "            'runtime': {\n",
    "                '$exists': True \n",
    "            }\n",
    "        },\n",
    "        projection={'_id': 0, 'title': 1, 'runtime': 1},\n",
    "        sort=[('runtime', 1)],\n",
    "        limit=10,\n",
    "    )\n",
    ")"
   ]
  },
  {
   "cell_type": "markdown",
   "metadata": {},
   "source": [
    "### Retrieve the title, production year, and number of awards of all movies that\n",
    "\n",
    "- have been produced between 1950 and 2000 (inclusive)\n",
    "- have an IMDB rating of 8.5 or better\n",
    "- won at least 30 awards.\n",
    "\n",
    "and sort the results by production year in descending order."
   ]
  },
  {
   "cell_type": "code",
   "execution_count": 12,
   "metadata": {},
   "outputs": [
    {
     "data": {
      "text/plain": [
       "[{'year': 2000, 'title': 'Gladiator', 'awards': {'wins': 63}},\n",
       " {'year': 2000, 'title': 'Memento', 'awards': {'wins': 54}},\n",
       " {'year': 1999, 'title': 'The Matrix', 'awards': {'wins': 37}},\n",
       " {'year': 1998, 'title': 'Saving Private Ryan', 'awards': {'wins': 83}},\n",
       " {'year': 1997, 'title': 'Life Is Beautiful', 'awards': {'wins': 66}},\n",
       " {'title': 'Life Is Beautiful', 'awards': {'wins': 66}, 'year': 1997},\n",
       " {'year': 1995, 'title': 'The Usual Suspects', 'awards': {'wins': 36}},\n",
       " {'year': 1995, 'title': 'Se7en', 'awards': {'wins': 32}},\n",
       " {'year': 1994, 'title': 'Pulp Fiction', 'awards': {'wins': 64}},\n",
       " {'year': 1994, 'title': 'Forrest Gump', 'awards': {'wins': 46}},\n",
       " {'title': \"Schindler's List\", 'awards': {'wins': 81}, 'year': 1993},\n",
       " {'year': 1991, 'title': 'The Silence of the Lambs', 'awards': {'wins': 56}},\n",
       " {'year': 1990, 'title': 'Goodfellas', 'awards': {'wins': 43}},\n",
       " {'year': 1981, 'title': 'Raiders of the Lost Ark', 'awards': {'wins': 32}},\n",
       " {'year': 1977,\n",
       "  'title': 'Star Wars: Episode IV - A New Hope',\n",
       "  'awards': {'wins': 44}},\n",
       " {'year': 1975,\n",
       "  'title': \"One Flew Over the Cuckoo's Nest\",\n",
       "  'awards': {'wins': 36}},\n",
       " {'year': 1972, 'title': 'The Godfather', 'awards': {'wins': 33}}]"
      ]
     },
     "execution_count": 12,
     "metadata": {},
     "output_type": "execute_result"
    }
   ],
   "source": [
    "list(\n",
    "client[\"sample_mflix\"][\"movies\"].find(\n",
    "        filter={\n",
    "            'year': {\n",
    "                '$gte': 1950,\n",
    "                '$lte': 2000\n",
    "            },  'imdb.rating' : { '$gte' :8.5 },  'awards.wins' : { '$gte' : 30 } \n",
    "        } , projection={'_id': 0, 'title': 1, 'year': 1, 'awards.wins': 1},\n",
    "        sort=[('year', -1)]\n",
    ")\n",
    ")"
   ]
  },
  {
   "cell_type": "markdown",
   "metadata": {},
   "source": [
    "### Find the top 15 highest-rated movies according to IMDB for movies that have at least 100,000 votes. Return only the title, year, and imdb.rating fields."
   ]
  },
  {
   "cell_type": "code",
   "execution_count": 13,
   "metadata": {},
   "outputs": [
    {
     "data": {
      "text/plain": [
       "[{'title': 'Band of Brothers', 'year': 2001, 'imdb': {'rating': 9.6}},\n",
       " {'imdb': {'rating': 9.3}, 'year': 1994, 'title': 'The Shawshank Redemption'},\n",
       " {'imdb': {'rating': 9.3}, 'year': 1994, 'title': 'The Shawshank Redemption'},\n",
       " {'imdb': {'rating': 9.2}, 'year': 1972, 'title': 'The Godfather'},\n",
       " {'imdb': {'rating': 9.1}, 'year': 1974, 'title': 'The Godfather: Part II'},\n",
       " {'imdb': {'rating': 9.0}, 'year': 2008, 'title': 'The Dark Knight'},\n",
       " {'imdb': {'rating': 8.9},\n",
       "  'year': 1966,\n",
       "  'title': 'The Good, the Bad and the Ugly'},\n",
       " {'title': \"Schindler's List\", 'year': 1993, 'imdb': {'rating': 8.9}},\n",
       " {'title': '12 Angry Men', 'year': 1957, 'imdb': {'rating': 8.9}},\n",
       " {'imdb': {'rating': 8.9}, 'year': 1994, 'title': 'Pulp Fiction'},\n",
       " {'imdb': {'rating': 8.9}, 'year': 1999, 'title': 'Fight Club'},\n",
       " {'imdb': {'rating': 8.9},\n",
       "  'year': 2003,\n",
       "  'title': 'The Lord of the Rings: The Return of the King'},\n",
       " {'imdb': {'rating': 8.8}, 'year': 1994, 'title': 'Forrest Gump'},\n",
       " {'imdb': {'rating': 8.8},\n",
       "  'year': 1980,\n",
       "  'title': 'Star Wars: Episode V - The Empire Strikes Back'},\n",
       " {'imdb': {'rating': 8.8},\n",
       "  'year': 2001,\n",
       "  'title': 'The Lord of the Rings: The Fellowship of the Ring'}]"
      ]
     },
     "execution_count": 13,
     "metadata": {},
     "output_type": "execute_result"
    }
   ],
   "source": [
    "list(\n",
    "client[\"sample_mflix\"][\"movies\"].find(\n",
    "        filter={\n",
    "            'imdb.votes': {'$gte': 100000}\n",
    "        } , projection={'_id': 0, 'title': 1, 'year': 1, 'imdb.rating': 1},\n",
    "        sort=[('imdb.rating', -1)],\n",
    "        limit=15\n",
    ")\n",
    ")"
   ]
  },
  {
   "cell_type": "markdown",
   "metadata": {},
   "source": [
    "### Retrieve the title, production year, and IMDB rating of movies in which both **Morgan Freeman** and **Clint Eastwood** played a role (among other actors in those movies). Sort the returned documents by year in descending order."
   ]
  },
  {
   "cell_type": "code",
   "execution_count": 14,
   "metadata": {},
   "outputs": [
    {
     "data": {
      "text/plain": [
       "[{'imdb': {'rating': 8.3}, 'year': 1992, 'title': 'Unforgiven'},\n",
       " {'imdb': {'rating': 8.1}, 'year': 2004, 'title': 'Million Dollar Baby'}]"
      ]
     },
     "execution_count": 14,
     "metadata": {},
     "output_type": "execute_result"
    }
   ],
   "source": [
    "list(\n",
    "client[\"sample_mflix\"][\"movies\"].find(\n",
    "        filter={\n",
    "            'cast': {'$all': ['Morgan Freeman','Clint Eastwood']}\n",
    "        } , projection={'_id': 0, 'title': 1, 'year': 1, 'imdb.rating': 1},\n",
    "        sort=[('imdb.rating', -1)]\n",
    ")\n",
    ")"
   ]
  },
  {
   "cell_type": "markdown",
   "metadata": {},
   "source": [
    "### Retrieve documents associated with movies which:\n",
    "\n",
    "- are available in both German and French (among other languages), but not in English,\n",
    "- are either rated above 8 according to IMDB, or above 7.5 according to the critic ratings of Rotten Tomatoes,\n",
    "- have at least 50 Rotten Tomatoes critic reviews.\n",
    "\n",
    "return only the title, year, IMDB rating, Rotten Tomatoes critic rating and country of production fields. Sort the results by IMDB rating in descending order.\n"
   ]
  },
  {
   "cell_type": "code",
   "execution_count": 15,
   "metadata": {},
   "outputs": [
    {
     "data": {
      "text/plain": [
       "[{'imdb': {'rating': 8.0},\n",
       "  'year': 1958,\n",
       "  'title': 'Elevator to the Gallows',\n",
       "  'tomatoes': {'critic': {'rating': 8.1}},\n",
       "  'countries': ['France']},\n",
       " {'imdb': {'rating': 7.8},\n",
       "  'year': 2013,\n",
       "  'title': 'The Wind Rises',\n",
       "  'tomatoes': {'critic': {'rating': 7.9}},\n",
       "  'countries': ['Japan']},\n",
       " {'title': 'The Wind Rises',\n",
       "  'year': 2013,\n",
       "  'imdb': {'rating': 7.8},\n",
       "  'countries': ['Japan'],\n",
       "  'tomatoes': {'critic': {'rating': 7.9}}},\n",
       " {'title': 'Sèraphine',\n",
       "  'year': 2008,\n",
       "  'imdb': {'rating': 7.4},\n",
       "  'countries': ['France', 'Belgium'],\n",
       "  'tomatoes': {'critic': {'rating': 7.5}}},\n",
       " {'title': '35 Shots of Rum',\n",
       "  'year': 2008,\n",
       "  'imdb': {'rating': 7.1},\n",
       "  'countries': ['France', 'Germany'],\n",
       "  'tomatoes': {'critic': {'rating': 8.1}}}]"
      ]
     },
     "execution_count": 15,
     "metadata": {},
     "output_type": "execute_result"
    }
   ],
   "source": [
    "list(\n",
    "client[\"sample_mflix\"][\"movies\"].find(\n",
    "        filter={\n",
    "            '$and' :[ {'languages': {'$all': ['German','French'],  '$exists': True}}, {'languages': {'$nin': ['English'],  '$exists': True} }] ,  \n",
    "            '$or' :[ {'imdb.rating': {'$gte': 8}},   {'tomatoes.critic.rating': {'$gte': 7.5}}  ],\n",
    "            'tomatoes.critic.numReviews': {'$gte': 50}\n",
    "        } , projection={'_id': 0, 'title': 1, 'year': 1, 'imdb.rating': 1, 'tomatoes.critic.rating':1, 'countries':1 },\n",
    "        sort=[('imdb.rating', -1)]\n",
    ")\n",
    ")"
   ]
  },
  {
   "cell_type": "markdown",
   "metadata": {},
   "source": [
    "### Find the title and production year of the top 20 award-winning movies which have **not** been produced in USA, Canada, UK, or Australia.\n"
   ]
  },
  {
   "cell_type": "code",
   "execution_count": 16,
   "metadata": {},
   "outputs": [
    {
     "data": {
      "text/plain": [
       "[{'title': 'The Artist', 'year': 2011},\n",
       " {'title': 'Blue Is the Warmest Color', 'year': 2013},\n",
       " {'title': 'Amour', 'year': 2012},\n",
       " {'title': 'Amour', 'year': 2012},\n",
       " {'title': 'A Separation', 'year': 2011},\n",
       " {'year': 2006, 'title': 'The Lives of Others'},\n",
       " {'title': 'Let the Right One In', 'year': 2008},\n",
       " {'year': 2002, 'title': 'City of God'},\n",
       " {'year': 2006, 'title': 'Volver'},\n",
       " {'title': 'The Sea Inside', 'year': 2004},\n",
       " {'year': 1997, 'title': 'Life Is Beautiful'},\n",
       " {'title': 'Life Is Beautiful', 'year': 1997},\n",
       " {'year': 2001, 'title': 'Amèlie'},\n",
       " {'year': 2009, 'title': 'The White Ribbon'},\n",
       " {'title': 'The Great Beauty', 'year': 2013},\n",
       " {'year': 2000, 'title': 'Amores Perros'},\n",
       " {'title': 'Shall We Dance?', 'year': 1996},\n",
       " {'year': 1999, 'title': 'All About My Mother'},\n",
       " {'year': 2013, 'title': 'The Grandmaster'},\n",
       " {'title': 'Shall We Dance?', 'year': 1996}]"
      ]
     },
     "execution_count": 16,
     "metadata": {},
     "output_type": "execute_result"
    }
   ],
   "source": [
    "list(\n",
    "client[\"sample_mflix\"][\"movies\"].find(\n",
    "        filter={\n",
    "             'countries': {'$nin': ['USA','Canada','UK','Australia'], '$exists': True} \n",
    "        } , projection={'_id': 0, 'title': 1, 'year': 1},\n",
    "        sort=[('awards.wins', -1)],\n",
    "        limit=20\n",
    ")\n",
    ")"
   ]
  },
  {
   "cell_type": "markdown",
   "metadata": {},
   "source": [
    "\n",
    "### Find the title and production year of the top 20 award-winning movies which have **not** been produced in USA, Canada, UK, or Australia.\n"
   ]
  },
  {
   "cell_type": "code",
   "execution_count": 17,
   "metadata": {},
   "outputs": [
    {
     "data": {
      "text/plain": [
       "[{'title': 'The Artist', 'year': 2011, 'imdbRating': 8.0},\n",
       " {'title': 'Blue Is the Warmest Color', 'year': 2013, 'imdbRating': 7.9},\n",
       " {'title': 'Amour', 'year': 2012, 'imdbRating': 7.9},\n",
       " {'title': 'Amour', 'year': 2012, 'imdbRating': 7.9},\n",
       " {'title': 'A Separation', 'year': 2011, 'imdbRating': 8.4},\n",
       " {'year': 2006, 'title': 'The Lives of Others', 'imdbRating': 8.5},\n",
       " {'title': 'Let the Right One In', 'year': 2008, 'imdbRating': 8.0},\n",
       " {'year': 2002, 'title': 'City of God', 'imdbRating': 8.7},\n",
       " {'year': 2006, 'title': 'Volver', 'imdbRating': 7.6},\n",
       " {'title': 'The Sea Inside', 'year': 2004, 'imdbRating': 8.1},\n",
       " {'year': 1997, 'title': 'Life Is Beautiful', 'imdbRating': 8.6},\n",
       " {'title': 'Life Is Beautiful', 'year': 1997, 'imdbRating': 8.6},\n",
       " {'year': 2001, 'title': 'Amèlie', 'imdbRating': 8.4},\n",
       " {'year': 2009, 'title': 'The White Ribbon', 'imdbRating': 7.8},\n",
       " {'title': 'The Great Beauty', 'year': 2013, 'imdbRating': 7.7},\n",
       " {'year': 2000, 'title': 'Amores Perros', 'imdbRating': 8.1},\n",
       " {'title': 'Shall We Dance?', 'year': 1996, 'imdbRating': 7.8},\n",
       " {'year': 1999, 'title': 'All About My Mother', 'imdbRating': 7.9},\n",
       " {'year': 2013, 'title': 'The Grandmaster', 'imdbRating': 6.5},\n",
       " {'title': 'Shall We Dance?', 'year': 1996, 'imdbRating': 7.8}]"
      ]
     },
     "execution_count": 17,
     "metadata": {},
     "output_type": "execute_result"
    }
   ],
   "source": [
    "list(\n",
    "    client[\"sample_mflix\"][\"movies\"].aggregate(\n",
    "        [\n",
    "            {\"$match\": {\"countries\": {\"$nin\": ['USA', 'Canada', 'UK','Australia']}}},\n",
    "            {'$sort':{'awards.wins':-1}},\n",
    "            {'$project': {'_id': 0, 'title': 1,'year':1, 'imdbRating':'$imdb.rating'}},\n",
    "           \n",
    "            {'$limit':20}\n",
    "        ]\n",
    "    )\n",
    ")"
   ]
  },
  {
   "cell_type": "markdown",
   "metadata": {},
   "source": [
    "### Count the number of movies (not TV series) produced in the USA per year, in and after the year 2000. Sort results by year in ascending order."
   ]
  },
  {
   "cell_type": "code",
   "execution_count": 18,
   "metadata": {},
   "outputs": [
    {
     "data": {
      "text/plain": [
       "[{'_id': 2000, 'num_of_movies': 341},\n",
       " {'_id': 2001, 'num_of_movies': 318},\n",
       " {'_id': 2002, 'num_of_movies': 337},\n",
       " {'_id': 2003, 'num_of_movies': 298},\n",
       " {'_id': 2004, 'num_of_movies': 325},\n",
       " {'_id': 2005, 'num_of_movies': 357},\n",
       " {'_id': 2006, 'num_of_movies': 373},\n",
       " {'_id': 2007, 'num_of_movies': 423},\n",
       " {'_id': 2008, 'num_of_movies': 445},\n",
       " {'_id': 2009, 'num_of_movies': 416},\n",
       " {'_id': 2010, 'num_of_movies': 409},\n",
       " {'_id': 2011, 'num_of_movies': 458},\n",
       " {'_id': 2012, 'num_of_movies': 485},\n",
       " {'_id': 2013, 'num_of_movies': 546},\n",
       " {'_id': 2014, 'num_of_movies': 536},\n",
       " {'_id': 2015, 'num_of_movies': 230}]"
      ]
     },
     "execution_count": 18,
     "metadata": {},
     "output_type": "execute_result"
    }
   ],
   "source": [
    "list(\n",
    "    client[\"sample_mflix\"][\"movies\"].aggregate(\n",
    "        [\n",
    "            {\"$match\": {\"year\": {\"$gte\": 2000}}},\n",
    "            {\"$match\": {\"countries\": 'USA'}},\n",
    "            {\"$match\": {\"type\": 'movie'}},\n",
    "            {'$group': {\n",
    "                '_id': '$year',\n",
    "                'num_of_movies': {'$sum': 1}\n",
    "            }}\n",
    "            ,\n",
    "            {'$sort':{'_id':1}}\n",
    "        ]\n",
    "    )\n",
    ")"
   ]
  },
  {
   "cell_type": "code",
   "execution_count": 19,
   "metadata": {},
   "outputs": [
    {
     "data": {
      "text/plain": [
       "[{'num_of_movies': 341, 'prod_year': 2000},\n",
       " {'num_of_movies': 318, 'prod_year': 2001},\n",
       " {'num_of_movies': 337, 'prod_year': 2002},\n",
       " {'num_of_movies': 298, 'prod_year': 2003},\n",
       " {'num_of_movies': 325, 'prod_year': 2004},\n",
       " {'num_of_movies': 357, 'prod_year': 2005},\n",
       " {'num_of_movies': 373, 'prod_year': 2006},\n",
       " {'num_of_movies': 423, 'prod_year': 2007},\n",
       " {'num_of_movies': 445, 'prod_year': 2008},\n",
       " {'num_of_movies': 416, 'prod_year': 2009},\n",
       " {'num_of_movies': 409, 'prod_year': 2010},\n",
       " {'num_of_movies': 458, 'prod_year': 2011},\n",
       " {'num_of_movies': 485, 'prod_year': 2012},\n",
       " {'num_of_movies': 546, 'prod_year': 2013},\n",
       " {'num_of_movies': 536, 'prod_year': 2014},\n",
       " {'num_of_movies': 230, 'prod_year': 2015}]"
      ]
     },
     "execution_count": 19,
     "metadata": {},
     "output_type": "execute_result"
    }
   ],
   "source": [
    "list(\n",
    "    client[\"sample_mflix\"][\"movies\"].aggregate(\n",
    "        [\n",
    "            {\"$match\": {\"year\": {\"$gte\": 2000}}},\n",
    "            {\"$match\": {\"countries\": 'USA'}},\n",
    "            {\"$match\": {\"type\": 'movie'}},\n",
    "            {'$group': {\n",
    "                '_id': '$year',\n",
    "                'num_of_movies': {'$sum': 1}\n",
    "            }}\n",
    "            ,\n",
    "            {'$sort':{'_id':1}},\n",
    "            {'$project': {'_id': 0, 'num_of_movies':1, 'prod_year':'$_id'}}\n",
    "        ]\n",
    "    )\n",
    ")"
   ]
  },
  {
   "cell_type": "markdown",
   "metadata": {},
   "source": [
    "### Create an aggregation pipeline that lists the top 10 most common movie languages, along with the count of movies for each language. Sort results based on the count in descending order."
   ]
  },
  {
   "cell_type": "code",
   "execution_count": 20,
   "metadata": {},
   "outputs": [
    {
     "data": {
      "text/plain": [
       "[{'_id': 'English', 'num_of_movies': 16048},\n",
       " {'_id': 'French', 'num_of_movies': 2800},\n",
       " {'_id': 'Spanish', 'num_of_movies': 1787},\n",
       " {'_id': 'German', 'num_of_movies': 1583},\n",
       " {'_id': 'Italian', 'num_of_movies': 1362},\n",
       " {'_id': 'Japanese', 'num_of_movies': 1014},\n",
       " {'_id': 'Russian', 'num_of_movies': 919},\n",
       " {'_id': 'Mandarin', 'num_of_movies': 539},\n",
       " {'_id': 'Hindi', 'num_of_movies': 524},\n",
       " {'_id': 'Portuguese', 'num_of_movies': 388}]"
      ]
     },
     "execution_count": 20,
     "metadata": {},
     "output_type": "execute_result"
    }
   ],
   "source": [
    "list(\n",
    "    client[\"sample_mflix\"][\"movies\"].aggregate(\n",
    "        [\n",
    "            {'$unwind': '$languages'},\n",
    "\n",
    "            {'$group': {\n",
    "                '_id': '$languages',\n",
    "                'num_of_movies': {'$sum': 1}\n",
    "            }}\n",
    "            ,\n",
    "            {'$sort':{'num_of_movies':-1}},\n",
    "            {'$limit':10}\n",
    "        ]\n",
    "    )\n",
    ")"
   ]
  },
  {
   "cell_type": "markdown",
   "metadata": {},
   "source": [
    "### Create an aggregation pipeline that lists the top 15 prolific directors along with the number of movies they have directed. "
   ]
  },
  {
   "cell_type": "code",
   "execution_count": 21,
   "metadata": {},
   "outputs": [
    {
     "data": {
      "text/plain": [
       "[{'_id': 'Woody Allen', 'num_of_movies': 40, 'avg_imdb_rating': 7.2},\n",
       " {'_id': 'John Ford', 'num_of_movies': 35, 'avg_imdb_rating': 7.2},\n",
       " {'_id': 'Takashi Miike', 'num_of_movies': 34, 'avg_imdb_rating': 6.9},\n",
       " {'_id': 'John Huston', 'num_of_movies': 34, 'avg_imdb_rating': 7.2},\n",
       " {'_id': 'Werner Herzog', 'num_of_movies': 33, 'avg_imdb_rating': 7.5},\n",
       " {'_id': 'Martin Scorsese', 'num_of_movies': 32, 'avg_imdb_rating': 7.6},\n",
       " {'_id': 'Alfred Hitchcock', 'num_of_movies': 31, 'avg_imdb_rating': 7.6},\n",
       " {'_id': 'Sidney Lumet', 'num_of_movies': 30, 'avg_imdb_rating': 7.0},\n",
       " {'_id': 'Michael Apted', 'num_of_movies': 29, 'avg_imdb_rating': 7.1},\n",
       " {'_id': 'George Cukor', 'num_of_movies': 29, 'avg_imdb_rating': 7.2},\n",
       " {'_id': 'Steven Spielberg', 'num_of_movies': 29, 'avg_imdb_rating': 7.5},\n",
       " {'_id': 'Mario Monicelli', 'num_of_movies': 29, 'avg_imdb_rating': 7.0},\n",
       " {'_id': 'Steven Soderbergh', 'num_of_movies': 28, 'avg_imdb_rating': 6.7},\n",
       " {'_id': 'Spike Lee', 'num_of_movies': 28, 'avg_imdb_rating': 6.8},\n",
       " {'_id': 'Robert Altman', 'num_of_movies': 28, 'avg_imdb_rating': 6.8}]"
      ]
     },
     "execution_count": 21,
     "metadata": {},
     "output_type": "execute_result"
    }
   ],
   "source": [
    "list(\n",
    "    client[\"sample_mflix\"][\"movies\"].aggregate(\n",
    "        [\n",
    "            {'$unwind': '$directors'},\n",
    "            \n",
    "\n",
    "            {'$group': {\n",
    "                '_id': '$directors',\n",
    "                'num_of_movies': {'$sum': 1},\n",
    "                'avg_imdb_rating': {'$avg': '$imdb.rating'}\n",
    "            }},\n",
    "            { '$project': {'_id':1,'num_of_movies':1,'avg_imdb_rating': { '$round': [ \"$avg_imdb_rating\", 1 ]}}}\n",
    "            ,\n",
    "            {'$sort':{'num_of_movies':-1}},\n",
    "            {'$limit':15}\n",
    "        ]\n",
    "    )\n",
    ")"
   ]
  },
  {
   "cell_type": "code",
   "execution_count": null,
   "metadata": {},
   "outputs": [],
   "source": []
  }
 ],
 "metadata": {
  "kernelspec": {
   "display_name": "Python [conda env:dsci513]",
   "language": "python",
   "name": "conda-env-dsci513-py"
  },
  "language_info": {
   "codemirror_mode": {
    "name": "ipython",
    "version": 3
   },
   "file_extension": ".py",
   "mimetype": "text/x-python",
   "name": "python",
   "nbconvert_exporter": "python",
   "pygments_lexer": "ipython3",
   "version": "3.11.0"
  },
  "toc": {
   "base_numbering": 1,
   "nav_menu": {},
   "number_sections": false,
   "sideBar": true,
   "skip_h1_title": true,
   "title_cell": "Lecture Outline",
   "title_sidebar": "Contents",
   "toc_cell": true,
   "toc_position": {},
   "toc_section_display": true,
   "toc_window_display": true
  },
  "toc-autonumbering": false,
  "toc-showcode": false,
  "toc-showmarkdowntxt": false,
  "toc-showtags": false,
  "vscode": {
   "interpreter": {
    "hash": "020375d9aeeb41ded8500965dd92c25c8dda33f089c2e03c1c8153c8d5ece307"
   }
  }
 },
 "nbformat": 4,
 "nbformat_minor": 4
}
